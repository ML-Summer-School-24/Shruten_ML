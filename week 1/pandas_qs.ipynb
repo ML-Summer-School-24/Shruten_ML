{
 "cells": [
  {
   "cell_type": "code",
   "execution_count": 10,
   "metadata": {},
   "outputs": [],
   "source": [
    "import pandas as pd"
   ]
  },
  {
   "cell_type": "code",
   "execution_count": 11,
   "metadata": {},
   "outputs": [],
   "source": [
    "\"\"\"\n",
    "1. Create a data frame with details of 10 students and columns as Roll Number, Name, \n",
    "Gender, Marks1, Marks2, Marks3.\n",
    "\"\"\"\n",
    "\n",
    "data = {'Roll Number': [1, 2, 3, 4, 5, 6, 7, 8, 9, 10],\n",
    "        'Name': ['A', 'B', 'C', 'D', 'E', 'F', 'G', 'H', 'I', 'J'],\n",
    "        'Gender': ['M', 'F', 'M', 'F', 'M', 'F', 'M', 'F', 'M', 'F'],\n",
    "        'Marks1': [90, 80, 70, 60, 50, 40, 30, 20, 10, 0],\n",
    "        'Marks2': [80, 70, 60, 50, 40, 30, 20, 10, 0, 90],\n",
    "        'Marks3': [70, 60, 50, 40, 30, 20, 10, 0, 90, 80]}\n",
    "\n",
    "df = pd.DataFrame(data)"
   ]
  },
  {
   "cell_type": "code",
   "execution_count": 12,
   "metadata": {},
   "outputs": [],
   "source": [
    "\"\"\"\n",
    "2. Create a new column with total marks\n",
    "\"\"\"\n",
    "df['Total Marks'] = df['Marks1'] + df['Marks2'] + df['Marks3']"
   ]
  },
  {
   "cell_type": "code",
   "execution_count": 13,
   "metadata": {},
   "outputs": [],
   "source": [
    "\"\"\"\n",
    "3. Find the lowest marks in Marks1\n",
    "\"\"\"\n",
    "lowest_marks1 = df['Marks1'].min()"
   ]
  },
  {
   "cell_type": "code",
   "execution_count": 14,
   "metadata": {},
   "outputs": [],
   "source": [
    "\"\"\"\n",
    "4. Find the Highest marks in Marks2\n",
    "\"\"\" \n",
    "highest_marks2 = df['Marks2'].max()"
   ]
  },
  {
   "cell_type": "code",
   "execution_count": 15,
   "metadata": {},
   "outputs": [],
   "source": [
    "\"\"\"\n",
    "5. Find the average marks in Marks3\n",
    "\"\"\"\n",
    "average_marks3 = df['Marks3'].mean()"
   ]
  },
  {
   "cell_type": "code",
   "execution_count": 16,
   "metadata": {},
   "outputs": [],
   "source": [
    "\"\"\"\n",
    "6. Find student name with highest average\n",
    "\"\"\"\n",
    "df['Average Marks'] = (df['Marks1'] + df['Marks2'] + df['Marks3']) / 3\n",
    "highest_average_student = df[df['Average Marks'] == df['Average Marks'].max()]['Name'].values[0]"
   ]
  },
  {
   "cell_type": "code",
   "execution_count": 17,
   "metadata": {},
   "outputs": [],
   "source": [
    "\"\"\"\n",
    "7. Find how many students failed in Marks2 (<40)\n",
    "\"\"\"\n",
    "failed_students = df[df['Marks2'] < 40].shape[0]"
   ]
  },
  {
   "cell_type": "code",
   "execution_count": 18,
   "metadata": {},
   "outputs": [],
   "source": [
    "\"\"\"\n",
    "8. Create a table with the 5-number summary of all the numeric attributes.\n",
    "\"\"\"\n",
    "table = df.describe()"
   ]
  }
 ],
 "metadata": {
  "kernelspec": {
   "display_name": "Python 3",
   "language": "python",
   "name": "python3"
  },
  "language_info": {
   "codemirror_mode": {
    "name": "ipython",
    "version": 3
   },
   "file_extension": ".py",
   "mimetype": "text/x-python",
   "name": "python",
   "nbconvert_exporter": "python",
   "pygments_lexer": "ipython3",
   "version": "3.11.4"
  }
 },
 "nbformat": 4,
 "nbformat_minor": 2
}
